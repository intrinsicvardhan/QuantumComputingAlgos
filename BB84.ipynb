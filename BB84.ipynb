{
 "cells": [
  {
   "cell_type": "code",
   "execution_count": 4,
   "id": "6c44f137-f4ea-4c88-ab60-911f93828747",
   "metadata": {
    "tags": []
   },
   "outputs": [],
   "source": [
    "from qiskit import transpile\n",
    "from qiskit.circuit.library import RealAmplitudes\n",
    "from qiskit.quantum_info import SparsePauliOp\n",
    "from qiskit_aer import AerSimulator\n",
    "from qiskit import QuantumCircuit\n",
    "sim = AerSimulator()"
   ]
  },
  {
   "cell_type": "code",
   "execution_count": 5,
   "id": "41a79c22-2be3-477c-a5b2-960aa50ebd27",
   "metadata": {},
   "outputs": [],
   "source": [
    "import random"
   ]
  },
  {
   "cell_type": "code",
   "execution_count": 6,
   "id": "e008a85d-21c6-4959-a01b-d6f3950f3e21",
   "metadata": {
    "tags": []
   },
   "outputs": [],
   "source": [
    "num_bits = 10\n",
    "basis_states = ['Z', 'X']"
   ]
  },
  {
   "cell_type": "code",
   "execution_count": 7,
   "id": "208e3019-3a1a-49d7-b8aa-79c697ac26c9",
   "metadata": {
    "tags": []
   },
   "outputs": [],
   "source": [
    "alice_circ = QuantumCircuit(1)\n",
    "bob_circ = QuantumCircuit(1)"
   ]
  },
  {
   "cell_type": "code",
   "execution_count": 8,
   "id": "f589565f-1cec-429c-a60b-a0f216ec317b",
   "metadata": {
    "tags": []
   },
   "outputs": [],
   "source": [
    "for i in range(num_bits):\n",
    "    bit = random.randint(0, 1)\n",
    "    basis = random.choice(basis_states)\n",
    "\n",
    "    if basis == 'Z':\n",
    "        if bit == 0: \n",
    "            alice_circ.h(0)\n",
    "        else:\n",
    "            alice_circ.x(0)\n",
    "            alice_circ.h(0)\n",
    "    else: #X Basis\n",
    "        if bit == 0:\n",
    "            alice_circ.h(0)\n",
    "            alice_circ.s(0)\n",
    "        else: \n",
    "            alice_circ.x(0)\n",
    "            alice_circ.h(0)\n",
    "            alice_circ.s(0)\n",
    "alice_circ.measure_all()\n",
    "bob_circ.measure_all()\n",
    "\n",
    "#Transpile the circuits for the simulator\n",
    "alice_circ = transpile(alice_circ, basis_gates=['u1', 'u2', 'u3', 'cx'], optimization_level=0)\n",
    "bob_circ = transpile(bob_circ, basis_gates=['u1', 'u2', 'u3', 'cx'], optimization_level=0)\n",
    "\n",
    "\n"
   ]
  },
  {
   "cell_type": "code",
   "execution_count": 9,
   "id": "ad2dc69c",
   "metadata": {},
   "outputs": [
    {
     "data": {
      "image/png": "[encoded data removed]",
      "text/plain": [
       "<Figure size 1750.94x200.667 with 1 Axes>"
      ]
     },
     "metadata": {},
     "output_type": "display_data"
    },
    {
     "data": {
      "image/png": "[encoded data removed]",
      "text/plain": [
       "<Figure size 329.554x200.667 with 1 Axes>"
      ]
     },
     "metadata": {},
     "output_type": "display_data"
    }
   ],
   "source": [
    "display(alice_circ.draw('mpl'))\n",
    "display(bob_circ.draw('mpl'))"
   ]
  },
  {
   "cell_type": "code",
   "execution_count": 10,
   "id": "9fb0e769-6010-4ce2-b88d-73d69ab19c6d",
   "metadata": {
    "tags": []
   },
   "outputs": [],
   "source": [
    "job = sim.run([alice_circ, bob_circ], shots = 1024)\n",
    "result = job.result()\n",
    "alice_bits = result.get_counts(alice_circ)\n",
    "bob_bits = result.get_counts(bob_circ)\n"
   ]
  },
  {
   "cell_type": "code",
   "execution_count": 11,
   "id": "b34c073c-8ce6-46c5-93ec-1fa9a24a2e01",
   "metadata": {
    "tags": []
   },
   "outputs": [
    {
     "name": "stdout",
     "output_type": "stream",
     "text": [
      "Alice's bits:  {'1': 515, '0': 509}\n",
      "Bob's bits:  {'0': 1024}\n"
     ]
    }
   ],
   "source": [
    "#print the encoded bits\n",
    "print(\"Alice's bits: \", alice_bits)\n",
    "print(\"Bob's bits: \", bob_bits)"
   ]
  },
  {
   "cell_type": "code",
   "execution_count": null,
   "id": "33ae03c9",
   "metadata": {},
   "outputs": [],
   "source": []
  }
 ],
 "metadata": {
  "kernelspec": {
   "display_name": "Qiskit v1.0.2 (ipykernel)",
   "language": "python",
   "name": "python3"
  },
  "language_info": {
   "codemirror_mode": {
    "name": "ipython",
    "version": 3
   },
   "file_extension": ".py",
   "mimetype": "text/x-python",
   "name": "python",
   "nbconvert_exporter": "python",
   "pygments_lexer": "ipython3",
   "version": "3.11.9"
  },
  "widgets": {
   "application/vnd.jupyter.widget-state+json": {
    "state": {},
    "version_major": 2,
    "version_minor": 0
   }
  }
 },
 "nbformat": 4,
 "nbformat_minor": 5
}
