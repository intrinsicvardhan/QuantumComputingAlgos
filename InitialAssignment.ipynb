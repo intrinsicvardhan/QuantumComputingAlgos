{
 "cells": [
  {
   "cell_type": "markdown",
   "id": "16d81c88-bb35-475a-a994-3ffb5691a41d",
   "metadata": {
    "tags": []
   },
   "source": [
    "## <i>102117021</i>, <b>Aaditya Vardhan</b>, <b>Assignment 6</b>"
   ]
  },
  {
   "cell_type": "code",
   "execution_count": 12,
   "id": "cb9060a5-9f2b-496c-bd8e-ca5f4282d9e7",
   "metadata": {
    "tags": []
   },
   "outputs": [
    {
     "ename": "ModuleNotFoundError",
     "evalue": "No module named 'ibm_quantum_widgets'",
     "output_type": "error",
     "traceback": [
      "\u001b[0;31m---------------------------------------------------------------------------\u001b[0m",
      "\u001b[0;31mModuleNotFoundError\u001b[0m                       Traceback (most recent call last)",
      "Cell \u001b[0;32mIn[12], line 4\u001b[0m\n\u001b[1;32m      2\u001b[0m \u001b[38;5;28;01mfrom\u001b[39;00m \u001b[38;5;21;01mqiskit\u001b[39;00m \u001b[38;5;28;01mimport\u001b[39;00m QuantumCircuit, transpile\n\u001b[1;32m      3\u001b[0m \u001b[38;5;28;01mfrom\u001b[39;00m \u001b[38;5;21;01mqiskit\u001b[39;00m\u001b[38;5;21;01m.\u001b[39;00m\u001b[38;5;21;01mvisualization\u001b[39;00m \u001b[38;5;28;01mimport\u001b[39;00m \u001b[38;5;241m*\u001b[39m\n\u001b[0;32m----> 4\u001b[0m \u001b[38;5;28;01mfrom\u001b[39;00m \u001b[38;5;21;01mibm_quantum_widgets\u001b[39;00m \u001b[38;5;28;01mimport\u001b[39;00m \u001b[38;5;241m*\u001b[39m\n\u001b[1;32m      6\u001b[0m \u001b[38;5;66;03m# qiskit-ibmq-provider has been deprecated.\u001b[39;00m\n\u001b[1;32m      7\u001b[0m \u001b[38;5;66;03m# Please see the Migration Guides in https://ibm.biz/provider_migration_guide for more detail.\u001b[39;00m\n\u001b[1;32m      8\u001b[0m \u001b[38;5;28;01mfrom\u001b[39;00m \u001b[38;5;21;01mqiskit_ibm_runtime\u001b[39;00m \u001b[38;5;28;01mimport\u001b[39;00m QiskitRuntimeService, Sampler, Estimator, Session, Options\n",
      "\u001b[0;31mModuleNotFoundError\u001b[0m: No module named 'ibm_quantum_widgets'"
     ]
    }
   ],
   "source": [
    "# Importing standard Qiskit libraries\n",
    "from qiskit import QuantumCircuit, transpile\n",
    "from qiskit.visualization import *\n",
    "from ibm_quantum_widgets import *\n",
    "\n",
    "# qiskit-ibmq-provider has been deprecated.\n",
    "# Please see the Migration Guides in https://ibm.biz/provider_migration_guide for more detail.\n",
    "from qiskit_ibm_runtime import QiskitRuntimeService, Sampler, Estimator, Session, Options\n",
    "\n",
    "# Loading your IBM Quantum account(s)\n",
    "service = QiskitRuntimeService(channel=\"ibm_quantum\")\n",
    "\n",
    "# Invoke a primitive. For more details see https://docs.quantum.ibm.com/run/primitives\n",
    "# result = Sampler().run(circuits).result()"
   ]
  },
  {
   "cell_type": "markdown",
   "id": "4ec5f173-8e2f-4f9a-ae86-dd69dcc3d354",
   "metadata": {},
   "source": [
    "### Superdense Coding"
   ]
  },
  {
   "cell_type": "code",
   "execution_count": 8,
   "id": "34438c32-0659-40bb-8a3d-45c606d64b3d",
   "metadata": {
    "tags": []
   },
   "outputs": [],
   "source": [
    "def create_bell_pair(): \n",
    "    qc = QuantumCircuit(2)\n",
    "    qc.h(1)\n",
    "    qc.cx(1,0)\n",
    "    return qc"
   ]
  },
  {
   "cell_type": "code",
   "execution_count": 9,
   "id": "4e028f42-41c3-4d53-b704-5314f312e762",
   "metadata": {
    "tags": []
   },
   "outputs": [],
   "source": [
    "def encode_message(qc, qubit, msg): \n",
    "    if len(msg) != 2 or not set(msg).issubset({\"0\",\"1\"}):\n",
    "        raise ValueError(f\"message '{msg}' is invalid\")\n",
    "    if msg[1] == \"1\":\n",
    "        qc.x(qubit)\n",
    "    if msg[0] == \"1\":\n",
    "        qc.z(qubit)\n",
    "    return qc"
   ]
  },
  {
   "cell_type": "code",
   "execution_count": 10,
   "id": "1b710592-99cf-468f-aa46-8b0162d50968",
   "metadata": {
    "tags": []
   },
   "outputs": [],
   "source": [
    "def decode_message(qc):\n",
    "    qc.cx(1,0)\n",
    "    qc.h(1)\n",
    "    return qc"
   ]
  },
  {
   "cell_type": "code",
   "execution_count": 11,
   "id": "74a8c53d-f13f-407d-ab09-02b3af259054",
   "metadata": {
    "tags": []
   },
   "outputs": [
    {
     "data": {
      "text/html": [
       "<pre style=\"word-wrap: normal;white-space: pre;background: #fff0;line-height: 1.1;font-family: &quot;Courier New&quot;,Courier,monospace\">             ┌───┐ ░            ░ ┌───┐      ░ ┌─┐   \n",
       "   q_0: ─────┤ X ├─░────────────░─┤ X ├──────░─┤M├───\n",
       "        ┌───┐└─┬─┘ ░ ┌───┐┌───┐ ░ └─┬─┘┌───┐ ░ └╥┘┌─┐\n",
       "   q_1: ┤ H ├──■───░─┤ X ├┤ Z ├─░───■──┤ H ├─░──╫─┤M├\n",
       "        └───┘      ░ └───┘└───┘ ░      └───┘ ░  ║ └╥┘\n",
       "meas: 2/════════════════════════════════════════╩══╩═\n",
       "                                                0  1 </pre>"
      ],
      "text/plain": [
       "             ┌───┐ ░            ░ ┌───┐      ░ ┌─┐   \n",
       "   q_0: ─────┤ X ├─░────────────░─┤ X ├──────░─┤M├───\n",
       "        ┌───┐└─┬─┘ ░ ┌───┐┌───┐ ░ └─┬─┘┌───┐ ░ └╥┘┌─┐\n",
       "   q_1: ┤ H ├──■───░─┤ X ├┤ Z ├─░───■──┤ H ├─░──╫─┤M├\n",
       "        └───┘      ░ └───┘└───┘ ░      └───┘ ░  ║ └╥┘\n",
       "meas: 2/════════════════════════════════════════╩══╩═\n",
       "                                                0  1 "
      ]
     },
     "execution_count": 11,
     "metadata": {},
     "output_type": "execute_result"
    }
   ],
   "source": [
    "# Charlie creates the entangled pair between Alice and Bob\n",
    "qc = create_bell_pair()\n",
    "\n",
    "# We'll add a barrier for visual separation\n",
    "qc.barrier()\n",
    "\n",
    "\n",
    "message = '11'\n",
    "qc = encode_message(qc, 1, message)\n",
    "qc.barrier()\n",
    "# Alice then sends her qubit to Bob.\n",
    "\n",
    "# After receiving qubit 0, Bob applies the recovery protocol:\n",
    "qc = decode_message(qc)\n",
    "\n",
    "# Finally, Bob measures his qubits to read Alice's message\n",
    "qc.measure_all()\n",
    "\n",
    "# Draw our output\n",
    "qc.draw()"
   ]
  },
  {
   "cell_type": "markdown",
   "id": "40968e8b-aa33-43e4-9e26-1ad5d77b412c",
   "metadata": {},
   "source": [
    "### Quantum Teleportation"
   ]
  },
  {
   "cell_type": "code",
   "execution_count": 2,
   "id": "284c0265-334d-490a-9bb3-b804db046dd4",
   "metadata": {
    "tags": []
   },
   "outputs": [
    {
     "data": {
      "text/html": [
       "<pre style=\"word-wrap: normal;white-space: pre;background: #fff0;line-height: 1.1;font-family: &quot;Courier New&quot;,Courier,monospace\">      ┌────────────────┐      ░      ┌───┐┌─┐                 \n",
       " q_0: ┤ U(0.3,0.2,0.1) ├──────░───■──┤ H ├┤M├─────────────────\n",
       "      └─────┬───┬──────┘      ░ ┌─┴─┐└┬─┬┘└╥┘                 \n",
       " q_1: ──────┤ H ├─────────■───░─┤ X ├─┤M├──╫──────────────────\n",
       "            └───┘       ┌─┴─┐ ░ └───┘ └╥┘  ║  ┌───┐  ┌───┐ ┌─┐\n",
       " q_2: ──────────────────┤ X ├─░────────╫───╫──┤ Z ├──┤ X ├─┤M├\n",
       "                        └───┘ ░        ║   ║  └─╥─┘  └─╥─┘ └╥┘\n",
       "                                       ║   ║ ┌──╨──┐   ║    ║ \n",
       "c0: 1/═════════════════════════════════╬═══╩═╡ 0x1 ╞═══╬════╬═\n",
       "                                       ║   0 └─────┘┌──╨──┐ ║ \n",
       "c1: 1/═════════════════════════════════╩════════════╡ 0x1 ╞═╬═\n",
       "                                       0            └─────┘ ║ \n",
       "c2: 1/══════════════════════════════════════════════════════╩═\n",
       "                                                            0 </pre>"
      ],
      "text/plain": [
       "      ┌────────────────┐      ░      ┌───┐┌─┐                 \n",
       " q_0: ┤ U(0.3,0.2,0.1) ├──────░───■──┤ H ├┤M├─────────────────\n",
       "      └─────┬───┬──────┘      ░ ┌─┴─┐└┬─┬┘└╥┘                 \n",
       " q_1: ──────┤ H ├─────────■───░─┤ X ├─┤M├──╫──────────────────\n",
       "            └───┘       ┌─┴─┐ ░ └───┘ └╥┘  ║  ┌───┐  ┌───┐ ┌─┐\n",
       " q_2: ──────────────────┤ X ├─░────────╫───╫──┤ Z ├──┤ X ├─┤M├\n",
       "                        └───┘ ░        ║   ║  └─╥─┘  └─╥─┘ └╥┘\n",
       "                                       ║   ║ ┌──╨──┐   ║    ║ \n",
       "c0: 1/═════════════════════════════════╬═══╩═╡ 0x1 ╞═══╬════╬═\n",
       "                                       ║   0 └─────┘┌──╨──┐ ║ \n",
       "c1: 1/═════════════════════════════════╩════════════╡ 0x1 ╞═╬═\n",
       "                                       0            └─────┘ ║ \n",
       "c2: 1/══════════════════════════════════════════════════════╩═\n",
       "                                                            0 "
      ]
     },
     "execution_count": 2,
     "metadata": {},
     "output_type": "execute_result"
    }
   ],
   "source": [
    "from qiskit import QuantumRegister, ClassicalRegister, QuantumCircuit\n",
    "from numpy import pi\n",
    "\n",
    "qreg_q = QuantumRegister(3, 'q')\n",
    "creg_c0 = ClassicalRegister(1, 'c0')\n",
    "creg_c1 = ClassicalRegister(1, 'c1')\n",
    "creg_c2 = ClassicalRegister(1, 'c2')\n",
    "circuit = QuantumCircuit(qreg_q, creg_c0, creg_c1, creg_c2)\n",
    "\n",
    "#quantum teleportation example \n",
    "circuit.u(0.3, 0.2, 0.1, qreg_q[0])\n",
    "#creating the first qubit change the values of theta, phi and lambda to create a different qubit \n",
    "circuit.h(qreg_q[1])\n",
    "circuit.cx(qreg_q[1], qreg_q[2])\n",
    "circuit.barrier(qreg_q)\n",
    "circuit.cx(qreg_q[0], qreg_q[1])\n",
    "circuit.h(qreg_q[0])\n",
    "circuit.measure(qreg_q[0], creg_c0[0])\n",
    "circuit.measure(qreg_q[1], creg_c1[0])\n",
    "circuit.z(qreg_q[2]).c_if(creg_c0, 1)\n",
    "circuit.x(qreg_q[2]).c_if(creg_c1, 1)\n",
    "circuit.measure(qreg_q[2], creg_c2[0])\n",
    "circuit.draw()"
   ]
  },
  {
   "cell_type": "markdown",
   "id": "eee2ad7a-76cb-4bb3-b6d5-0708b5ce6373",
   "metadata": {},
   "source": [
    "### Phase Kickback"
   ]
  },
  {
   "cell_type": "code",
   "execution_count": 4,
   "id": "421635c0-b276-4098-b746-b02e308ccea6",
   "metadata": {
    "tags": []
   },
   "outputs": [],
   "source": [
    "from qiskit_aer import Aer, AerSimulator\n",
    "from qiskit.compiler import assemble"
   ]
  },
  {
   "cell_type": "code",
   "execution_count": 5,
   "id": "2e20b3b1-4b31-4547-9391-be8bd37d6978",
   "metadata": {
    "tags": []
   },
   "outputs": [
    {
     "data": {
      "text/html": [
       "<pre style=\"word-wrap: normal;white-space: pre;background: #fff0;line-height: 1.1;font-family: &quot;Courier New&quot;,Courier,monospace\">     ┌───┐     ┌───┐\n",
       "q_0: ┤ H ├──■──┤ H ├\n",
       "     ├───┤┌─┴─┐├───┤\n",
       "q_1: ┤ H ├┤ X ├┤ H ├\n",
       "     └───┘└───┘└───┘</pre>"
      ],
      "text/plain": [
       "     ┌───┐     ┌───┐\n",
       "q_0: ┤ H ├──■──┤ H ├\n",
       "     ├───┤┌─┴─┐├───┤\n",
       "q_1: ┤ H ├┤ X ├┤ H ├\n",
       "     └───┘└───┘└───┘"
      ]
     },
     "metadata": {},
     "output_type": "display_data"
    }
   ],
   "source": [
    "qc = QuantumCircuit(2)\n",
    "qc.h(0)\n",
    "qc.h(1)\n",
    "qc.cx(0,1)\n",
    "qc.h(0)\n",
    "qc.h(1)\n",
    "display(qc.draw()) "
   ]
  },
  {
   "cell_type": "code",
   "execution_count": 6,
   "id": "bd413d57-7873-4eb4-a583-8e21a4a916f8",
   "metadata": {
    "tags": []
   },
   "outputs": [
    {
     "name": "stderr",
     "output_type": "stream",
     "text": [
      "/tmp/ipykernel_18388/3207187749.py:4: DeprecationWarning: Using a qobj for run() is deprecated as of qiskit-aer 0.14 and will be removed no sooner than 3 months from that release date. Transpiled circuits should now be passed directly using `backend.run(circuits, **run_options).\n",
      "  unitary = usim.run(qobj).result().get_unitary()\n"
     ]
    },
    {
     "data": {
      "text/latex": [
       "$$\n",
       "\\text{Circuit = }\n",
       "\n",
       "\\begin{bmatrix}\n",
       "1 & 0 & 0 & 0  \\\\\n",
       " 0 & 1 & 0 & 0  \\\\\n",
       " 0 & 0 & 0 & 1  \\\\\n",
       " 0 & 0 & 1 & 0  \\\\\n",
       " \\end{bmatrix}\n",
       "$$"
      ],
      "text/plain": [
       "<IPython.core.display.Latex object>"
      ]
     },
     "execution_count": 6,
     "metadata": {},
     "output_type": "execute_result"
    }
   ],
   "source": [
    "qc.save_unitary()\n",
    "usim = Aer.get_backend('aer_simulator')\n",
    "qobj = assemble(qc)\n",
    "unitary = usim.run(qobj).result().get_unitary()\n",
    "array_to_latex(unitary, prefix=\"\\\\text{Circuit = }\\n\")"
   ]
  },
  {
   "cell_type": "code",
   "execution_count": 7,
   "id": "8e7d2b2f-ff7e-4ae6-a7aa-581ec3244678",
   "metadata": {
    "tags": []
   },
   "outputs": [
    {
     "data": {
      "text/html": [
       "<pre style=\"word-wrap: normal;white-space: pre;background: #fff0;line-height: 1.1;font-family: &quot;Courier New&quot;,Courier,monospace\">     ┌───┐\n",
       "q_0: ┤ X ├\n",
       "     └─┬─┘\n",
       "q_1: ──■──\n",
       "          </pre>"
      ],
      "text/plain": [
       "     ┌───┐\n",
       "q_0: ┤ X ├\n",
       "     └─┬─┘\n",
       "q_1: ──■──\n",
       "          "
      ]
     },
     "metadata": {},
     "output_type": "display_data"
    },
    {
     "name": "stderr",
     "output_type": "stream",
     "text": [
      "/tmp/ipykernel_18388/2278730679.py:7: DeprecationWarning: Using a qobj for run() is deprecated as of qiskit-aer 0.14 and will be removed no sooner than 3 months from that release date. Transpiled circuits should now be passed directly using `backend.run(circuits, **run_options).\n",
      "  unitary = usim.run(qobj).result().get_unitary()\n"
     ]
    },
    {
     "data": {
      "text/latex": [
       "$$\n",
       "\\text{Circuit = }\n",
       "\n",
       "\\begin{bmatrix}\n",
       "1 & 0 & 0 & 0  \\\\\n",
       " 0 & 1 & 0 & 0  \\\\\n",
       " 0 & 0 & 0 & 1  \\\\\n",
       " 0 & 0 & 1 & 0  \\\\\n",
       " \\end{bmatrix}\n",
       "$$"
      ],
      "text/plain": [
       "<IPython.core.display.Latex object>"
      ]
     },
     "execution_count": 7,
     "metadata": {},
     "output_type": "execute_result"
    }
   ],
   "source": [
    "qc = QuantumCircuit(2)\n",
    "qc.cx(1,0)\n",
    "display(qc.draw())\n",
    "qc.save_unitary()\n",
    "\n",
    "qobj = assemble(qc)\n",
    "unitary = usim.run(qobj).result().get_unitary()\n",
    "array_to_latex(unitary, prefix=\"\\\\text{Circuit = }\\n\")"
   ]
  },
  {
   "cell_type": "markdown",
   "id": "973fde16-d283-4aa6-a89e-eabe8bb8e9d9",
   "metadata": {},
   "source": [
    "### Kickback with the T-gate\n",
    "- "
   ]
  },
  {
   "cell_type": "code",
   "execution_count": 38,
   "id": "13ffa5e1-22bf-4bb7-b294-3b9488614e4c",
   "metadata": {
    "tags": []
   },
   "outputs": [
    {
     "data": {
      "image/png": "[encoded data removed]",
      "text/plain": [
       "<Figure size 287.294x200.667 with 1 Axes>"
      ]
     },
     "metadata": {},
     "output_type": "display_data"
    },
    {
     "name": "stderr",
     "output_type": "stream",
     "text": [
      "/tmp/ipykernel_116/2073489406.py:7: DeprecationWarning: Using a qobj for run() is deprecated as of qiskit-aer 0.9.0 and will be removed no sooner than 3 months from that release date. Transpiled circuits should now be passed directly using `backend.run(circuits, **run_options).\n",
      "  unitary = usim.run(qobj).result().get_unitary()\n"
     ]
    },
    {
     "data": {
      "text/latex": [
       "$$\n",
       "\\text{Controlled-T} = \n",
       "\n",
       "\\begin{bmatrix}\n",
       "1 & 0 & 0 & 0  \\\\\n",
       " 0 & 1 & 0 & 0  \\\\\n",
       " 0 & 0 & 1 & 0  \\\\\n",
       " 0 & 0 & 0 & \\frac{\\sqrt{2}}{2} + \\frac{\\sqrt{2} i}{2}  \\\\\n",
       " \\end{bmatrix}\n",
       "$$"
      ],
      "text/plain": [
       "<IPython.core.display.Latex object>"
      ]
     },
     "execution_count": 38,
     "metadata": {},
     "output_type": "execute_result"
    }
   ],
   "source": [
    "qc = QuantumCircuit(2)\n",
    "qc.cp(pi/4, 0, 1)\n",
    "display(qc.draw())\n",
    "# See Results:\n",
    "qc.save_unitary()\n",
    "qobj = assemble(qc)\n",
    "unitary = usim.run(qobj).result().get_unitary()\n",
    "array_to_latex(unitary, prefix=\"\\\\text{Controlled-T} = \\n\")"
   ]
  }
 ],
 "metadata": {
  "kernelspec": {
   "display_name": "Qiskit v1.0.2 (ipykernel)",
   "language": "python",
   "name": "python3"
  },
  "language_info": {
   "codemirror_mode": {
    "name": "ipython",
    "version": 3
   },
   "file_extension": ".py",
   "mimetype": "text/x-python",
   "name": "python",
   "nbconvert_exporter": "python",
   "pygments_lexer": "ipython3",
   "version": "3.11.9"
  },
  "widgets": {
   "application/vnd.jupyter.widget-state+json": {
    "state": {},
    "version_major": 2,
    "version_minor": 0
   }
  }
 },
 "nbformat": 4,
 "nbformat_minor": 5
}
